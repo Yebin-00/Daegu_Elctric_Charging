{
 "cells": [
  {
   "cell_type": "code",
   "execution_count": 4,
   "id": "d11ee53d",
   "metadata": {},
   "outputs": [
    {
     "name": "stderr",
     "output_type": "stream",
     "text": [
      "C:\\Users\\churi\\anaconda3\\lib\\site-packages\\libpysal\\weights\\util.py:1073: ShapelyDeprecationWarning: The array interface is deprecated and will no longer work in Shapely 2.0. Convert the '.coords' to a numpy array instead.\n",
      "  data = np.vstack([np.array(shape.centroid) for shape in first_choice])\n"
     ]
    },
    {
     "name": "stdout",
     "output_type": "stream",
     "text": [
      "P : 0.3034825870646766, Z : -0.4779960799371383\n"
     ]
    },
    {
     "data": {
      "image/png": "[encoded data removed]",
      "text/plain": [
       "<Figure size 504x504 with 1 Axes>"
      ]
     },
     "metadata": {
      "needs_background": "light"
     },
     "output_type": "display_data"
    }
   ],
   "source": [
    "import geopandas as gpd\n",
    "import pandas as pd\n",
    "import matplotlib.pyplot as plt\n",
    "import seaborn as sns\n",
    "import numpy as np\n",
    "import esda\n",
    "from pysal.lib import weights\n",
    "import libpysal\n",
    "from splot.esda import moran_scatterplot, lisa_cluster, plot_local_autocorrelation\n",
    "from esda.moran import (Moran, Moran_BV,\n",
    "                        Moran_Local, Moran_Local_BV)\n",
    "from scipy.spatial import distance\n",
    "\n",
    "#from esda.moran import Moran_Local\n",
    "from libpysal.weights.contiguity import Queen\n",
    "import networkx as nx\n",
    "\n",
    "satellite = gpd.read_file(\"../js/posData_en_csv2.geojson\") \n",
    "satellite\n",
    "\n",
    "a = satellite[\"x_num\"]\n",
    "b = satellite[\"y_num\"]\n",
    "c = []\n",
    "\n",
    "ran = []\n",
    "for i in range(len(satellite)):\n",
    "    d = (a[i],b[i])\n",
    "    c.append(d)\n",
    "\n",
    "#wnn7= weights.KNN.from_dataframe(satellite, k=7)\n",
    "\n",
    "\n",
    "x = satellite['number'].values\n",
    "y = satellite['amount'].values\n",
    "w = Queen.from_dataframe(satellite)\n",
    "w.transform = 'r'\n",
    "\n",
    "moran = Moran(y, w,permutations=200,two_tailed=False)\n",
    "#moran_bv = Moran_BV(y, x, w)\n",
    "#moran_loc = Moran_Local(y, w)\n",
    "#moran_loc_bv = Moran_Local_BV(y, x, w)\n",
    "moran_p = moran.p_sim\n",
    "moran_z = moran.z_sim\n",
    "\n",
    "'''\n",
    "tmp_p = 1\n",
    "tmp_z = 1\n",
    "\n",
    "while(moran_p>0.1):\n",
    "    moran = Moran(y, w,permutations=200,two_tailed=False)\n",
    "    #moran_bv = Moran_BV(y, x, w)\n",
    "    #moran_loc = Moran_Local(y, w)\n",
    "    #moran_loc_bv = Moran_Local_BV(y, x, w)\n",
    "    moran_p = moran.p_sim\n",
    "    moran_z = moran.z_sim\n",
    "\n",
    "\n",
    "    #fig, axs = plt.subplots(2, 2, figsize=(10,10),subplot_kw={'aspect': 'equal'})\n",
    "    #fig, axs = plt.subplots(figsize=(15,15))\n",
    "    if moran_p<tmp_p :\n",
    "        tmp_p = moran_p\n",
    "        tmp_z = moran_z\n",
    "        say = \"P : \" + str(moran_p) + \", Z : \" + str(moran_z)\n",
    "        print(say)\n",
    "        \n",
    "'''\n",
    "\n",
    "#print(\"last\")\n",
    "say = \"P : \" + str(moran_p) + \", Z : \" + str(moran_z)\n",
    "print(say)\n",
    "moran_scatterplot(moran)\n",
    "#moran_scatterplot(moran_loc, p=0.05)\n",
    "#moran_scatterplot(moran_bv, p=0.05)\n",
    "#moran_scatterplot(moran_loc_bv, p=0.05)\n",
    "\n",
    "plt.ylim([-1.5, 1.5])\n",
    "plt.show()\n",
    "\n",
    "#가중치 그래프\n",
    "#g1 = w.to_networkx()\n",
    "#nx.draw(g1, with_labels = True)\n",
    "#w.cardinalities\n",
    "#w.asymmetries\n",
    "\n",
    "# save\n",
    "#plt.savefig(\"Moran\", dpi = 72)"
   ]
  },
  {
   "cell_type": "code",
   "execution_count": null,
   "id": "f5fa152e",
   "metadata": {},
   "outputs": [],
   "source": []
  },
  {
   "cell_type": "code",
   "execution_count": null,
   "id": "f63c28d4",
   "metadata": {},
   "outputs": [],
   "source": []
  },
  {
   "cell_type": "code",
   "execution_count": null,
   "id": "09dddc10",
   "metadata": {},
   "outputs": [],
   "source": []
  }
 ],
 "metadata": {
  "kernelspec": {
   "display_name": "Python 3 (ipykernel)",
   "language": "python",
   "name": "python3"
  },
  "language_info": {
   "codemirror_mode": {
    "name": "ipython",
    "version": 3
   },
   "file_extension": ".py",
   "mimetype": "text/x-python",
   "name": "python",
   "nbconvert_exporter": "python",
   "pygments_lexer": "ipython3",
   "version": "3.9.12"
  }
 },
 "nbformat": 4,
 "nbformat_minor": 5
}
